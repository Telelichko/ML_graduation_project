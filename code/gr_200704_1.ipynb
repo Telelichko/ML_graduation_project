{
 "cells": [
  {
   "cell_type": "code",
   "execution_count": 61,
   "metadata": {},
   "outputs": [
    {
     "name": "stderr",
     "output_type": "stream",
     "text": [
      "Using TensorFlow backend.\n"
     ]
    }
   ],
   "source": [
    "import pandas as pd\n",
    "import numpy as np\n",
    "\n",
    "from keras.models import Sequential\n",
    "from keras.layers import Dense\n",
    "from sklearn.preprocessing import LabelEncoder"
   ]
  },
  {
   "cell_type": "code",
   "execution_count": 59,
   "metadata": {
    "scrolled": true
   },
   "outputs": [
    {
     "name": "stderr",
     "output_type": "stream",
     "text": [
      "C:\\Users\\Tasha\\anaconda3\\lib\\site-packages\\pandas\\core\\frame.py:4133: SettingWithCopyWarning: \n",
      "A value is trying to be set on a copy of a slice from a DataFrame\n",
      "\n",
      "See the caveats in the documentation: https://pandas.pydata.org/pandas-docs/stable/user_guide/indexing.html#returning-a-view-versus-a-copy\n",
      "  errors=errors,\n",
      "C:\\Users\\Tasha\\anaconda3\\lib\\site-packages\\pandas\\core\\frame.py:3997: SettingWithCopyWarning: \n",
      "A value is trying to be set on a copy of a slice from a DataFrame\n",
      "\n",
      "See the caveats in the documentation: https://pandas.pydata.org/pandas-docs/stable/user_guide/indexing.html#returning-a-view-versus-a-copy\n",
      "  errors=errors,\n",
      "C:\\Users\\Tasha\\anaconda3\\lib\\site-packages\\ipykernel_launcher.py:29: SettingWithCopyWarning: \n",
      "A value is trying to be set on a copy of a slice from a DataFrame.\n",
      "Try using .loc[row_indexer,col_indexer] = value instead\n",
      "\n",
      "See the caveats in the documentation: https://pandas.pydata.org/pandas-docs/stable/user_guide/indexing.html#returning-a-view-versus-a-copy\n",
      "C:\\Users\\Tasha\\anaconda3\\lib\\site-packages\\pandas\\core\\indexing.py:965: SettingWithCopyWarning: \n",
      "A value is trying to be set on a copy of a slice from a DataFrame.\n",
      "Try using .loc[row_indexer,col_indexer] = value instead\n",
      "\n",
      "See the caveats in the documentation: https://pandas.pydata.org/pandas-docs/stable/user_guide/indexing.html#returning-a-view-versus-a-copy\n",
      "  self.obj[item] = s\n",
      "C:\\Users\\Tasha\\anaconda3\\lib\\site-packages\\ipykernel_launcher.py:38: SettingWithCopyWarning: \n",
      "A value is trying to be set on a copy of a slice from a DataFrame\n",
      "\n",
      "See the caveats in the documentation: https://pandas.pydata.org/pandas-docs/stable/user_guide/indexing.html#returning-a-view-versus-a-copy\n",
      "C:\\Users\\Tasha\\anaconda3\\lib\\site-packages\\IPython\\core\\interactiveshell.py:3331: SettingWithCopyWarning: \n",
      "A value is trying to be set on a copy of a slice from a DataFrame\n",
      "\n",
      "See the caveats in the documentation: https://pandas.pydata.org/pandas-docs/stable/user_guide/indexing.html#returning-a-view-versus-a-copy\n",
      "  exec(code_obj, self.user_global_ns, self.user_ns)\n",
      "C:\\Users\\Tasha\\anaconda3\\lib\\site-packages\\ipykernel_launcher.py:48: SettingWithCopyWarning: \n",
      "A value is trying to be set on a copy of a slice from a DataFrame\n",
      "\n",
      "See the caveats in the documentation: https://pandas.pydata.org/pandas-docs/stable/user_guide/indexing.html#returning-a-view-versus-a-copy\n",
      "C:\\Users\\Tasha\\anaconda3\\lib\\site-packages\\ipykernel_launcher.py:49: SettingWithCopyWarning: \n",
      "A value is trying to be set on a copy of a slice from a DataFrame\n",
      "\n",
      "See the caveats in the documentation: https://pandas.pydata.org/pandas-docs/stable/user_guide/indexing.html#returning-a-view-versus-a-copy\n",
      "C:\\Users\\Tasha\\anaconda3\\lib\\site-packages\\ipykernel_launcher.py:50: SettingWithCopyWarning: \n",
      "A value is trying to be set on a copy of a slice from a DataFrame\n",
      "\n",
      "See the caveats in the documentation: https://pandas.pydata.org/pandas-docs/stable/user_guide/indexing.html#returning-a-view-versus-a-copy\n",
      "C:\\Users\\Tasha\\anaconda3\\lib\\site-packages\\ipykernel_launcher.py:44: SettingWithCopyWarning: \n",
      "A value is trying to be set on a copy of a slice from a DataFrame\n",
      "\n",
      "See the caveats in the documentation: https://pandas.pydata.org/pandas-docs/stable/user_guide/indexing.html#returning-a-view-versus-a-copy\n",
      "C:\\Users\\Tasha\\anaconda3\\lib\\site-packages\\ipykernel_launcher.py:42: SettingWithCopyWarning: \n",
      "A value is trying to be set on a copy of a slice from a DataFrame\n",
      "\n",
      "See the caveats in the documentation: https://pandas.pydata.org/pandas-docs/stable/user_guide/indexing.html#returning-a-view-versus-a-copy\n",
      "C:\\Users\\Tasha\\anaconda3\\lib\\site-packages\\ipykernel_launcher.py:40: SettingWithCopyWarning: \n",
      "A value is trying to be set on a copy of a slice from a DataFrame\n",
      "\n",
      "See the caveats in the documentation: https://pandas.pydata.org/pandas-docs/stable/user_guide/indexing.html#returning-a-view-versus-a-copy\n",
      "C:\\Users\\Tasha\\anaconda3\\lib\\site-packages\\ipykernel_launcher.py:46: SettingWithCopyWarning: \n",
      "A value is trying to be set on a copy of a slice from a DataFrame\n",
      "\n",
      "See the caveats in the documentation: https://pandas.pydata.org/pandas-docs/stable/user_guide/indexing.html#returning-a-view-versus-a-copy\n"
     ]
    }
   ],
   "source": [
    "# --- Подготовка данных. Получение эксель-файла только с необходимыми столбцами ---\n",
    "\n",
    "# Чтение данных с наименованиями полей\n",
    "data_column_names = pd.read_excel('../input_data/data_from_site3.xlsx', sheet_name = 'names')\n",
    "\n",
    "# Удаление событий сс пустыми значениями в поле checked_parameter\n",
    "data_column_names['checked_parameter'].replace('', np.nan, inplace = True)\n",
    "data_column_names.dropna(subset = ['checked_parameter'], inplace = True)\n",
    "\n",
    "# Получение списка исследуемых параметров\n",
    "list_data_necessary = []\n",
    "for n_data in data_column_names['N']:\n",
    "    list_data_necessary.append(n_data)\n",
    "    \n",
    "# Получение всех данных теста\n",
    "data_all = pd.read_excel('../input_data/data_from_site2.xlsx', sheet_name = 'data')\n",
    "\n",
    "# Получение данных по иследуемым параметрам\n",
    "data_necessary = data_all[list_data_necessary]\n",
    "data_necessary.head()\n",
    "\n",
    "# Переименование заголовков столбцов\n",
    "old_names = list_data_necessary\n",
    "new_names = data_necessary.loc[0]\n",
    "data_necessary.rename(columns = dict(zip(old_names, new_names)), inplace = True) \n",
    "data_necessary.drop([0], inplace = True)\n",
    "\n",
    "# Создание столбца \"Тип_занятости\" взамен разрозненных данных\n",
    "data_necessary['Тип_занятости'] = 0\n",
    "data_necessary.loc[data_necessary['Владелец_предприятия'] == 1, 'Владелец_предприятия'] = 2\n",
    "data_necessary.loc[data_necessary['ИП'] == 1, 'ИП'] = 3\n",
    "data_necessary.loc[data_necessary['Фермер'] == 1, 'Фермер'] = 4\n",
    "data_necessary.loc[data_necessary['Свободный_работник'] == 1, 'Свободный_работник'] = 5\n",
    "data_necessary.loc[data_necessary['Мессенджеры_нет'] == '     .  ', 'Мессенджеры_нет'] = 99\n",
    "\n",
    "for index, row in data_necessary.iterrows():\n",
    "    if data_necessary['Наемный_работник'][index] == 1:\n",
    "        data_necessary['Тип_занятости'][index] = data_necessary['Наемный_работник'][index]\n",
    "    if data_necessary['Владелец_предприятия'][index] == 2:\n",
    "        data_necessary['Тип_занятости'][index] = data_necessary['Владелец_предприятия'][index] \n",
    "    if data_necessary['ИП'][index] == 3:\n",
    "        data_necessary['Тип_занятости'][index] = data_necessary['ИП'][index] \n",
    "    if data_necessary['Фермер'][index] == 4:\n",
    "        data_necessary['Тип_занятости'][index] = data_necessary['Фермер'][index] \n",
    "    if data_necessary['Свободный_работник'][index] == 5:\n",
    "        data_necessary['Тип_занятости'][index] = data_necessary['Свободный_работник'][index]  \n",
    "    if data_necessary['Сумма_пенсии'][index] != '     .  ':\n",
    "        data_necessary['Тип_занятости'][index] = 6\n",
    "        data_necessary['Профессия_должность'][index] = 'пенсионер'\n",
    "        data_necessary['Деятельность_компании'][index] = 'Пенсионный_Фонд_РФ'\n",
    "        \n",
    "\n",
    "drop_list = ['Наемный_работник', 'Владелец_предприятия', 'ИП', 'Фермер', 'Свободный_работник']        \n",
    "data_necessary.drop(drop_list, axis = 'columns', inplace = True)  \n",
    "\n",
    "# Сохранение отчасти подготовленных данных в файл\n",
    "data_necessary.to_excel('../output_data/data_to_experiments.xlsx', sheet_name = 'data')\n",
    "\n",
    "# # Проверка полученных данных по первым 5 значениям\n",
    "# print(data_necessary.head())\n",
    "\n",
    "# Удаление переменной для исключения конфликтов при повторном использовании\n",
    "del data_necessary\n",
    "\n",
    "# ---------------------------------------------------------------------------------"
   ]
  },
  {
   "cell_type": "markdown",
   "metadata": {},
   "source": [
    "Поскольку в полученных данных присутствуют суммы зарплаты и пенсии, то стоит выбор в методе обработки данных значений\n",
    "\n",
    "1 вариант - нормализация столбцов, дополнение пустых столбцов по з/п данными пенсиями. По заполненным данным: среднее арифметическое? Или сумма без нормализации\n",
    "\n",
    "2 вариант - сумму з/п и пенсии \"=\" уровень потребностей и коммуникаций, но не является логичным показателем субъективных ощущений.\n",
    "(Т.к. низкий уровень пенсии и вынужденная работа может показать сумму, превышающую величину более высокой пенсии, но свидетельствовать о более низкой оценке себя...)\n",
    "подходит для оценки показателей \"Тип_занятости\", \"Количество_детей\", ..."
   ]
  },
  {
   "cell_type": "code",
   "execution_count": 101,
   "metadata": {
    "scrolled": false
   },
   "outputs": [
    {
     "data": {
      "text/plain": [
       "7851"
      ]
     },
     "execution_count": 101,
     "metadata": {},
     "output_type": "execute_result"
    }
   ],
   "source": [
    "# --- Подготовка данных. Предварительная обработка необходимых столбцов  ---\n",
    "\n",
    "# Чтение данных\n",
    "data_necessary = pd.read_excel('../output_data/data_to_experiments.xlsx', sheet_name = 'data')\n",
    "\n",
    "# Удаление первого столбца с номерами строк, \"доставщихся по наследству\" от первого файла\n",
    "data_necessary.drop(data_necessary.columns[[0]], axis=1, inplace=True) \n",
    "\n",
    "# Объединение столбцов с пенсией и зарплатой\n",
    "data_necessary.loc[data_necessary['Средняя_зарплата_месяц'] == '     .  ', 'Средняя_зарплата_месяц'] = 0\n",
    "data_necessary.loc[data_necessary['Сумма_пенсии'] == '     .  ', 'Сумма_пенсии'] = 0\n",
    "data_necessary.loc[data_necessary['Средняя_зарплата_месяц'] == 0, 'Средняя_зарплата_месяц'] = data_necessary['Средняя_зарплата_месяц'] + data_necessary['Сумма_пенсии']\n",
    "data_necessary.rename(columns = dict(zip(['Средняя_зарплата_месяц'], ['Размер_зарплаты_пенсии'])), inplace = True) \n",
    "del data_necessary['Сумма_пенсии'] \n",
    "\n",
    "# Удаление строк с неуказанной зарплатой\n",
    "data_necessary['Размер_зарплаты_пенсии'].replace(0, np.nan, inplace=True)\n",
    "data_necessary.dropna(subset=['Размер_зарплаты_пенсии'], inplace=True)\n",
    "\n",
    "# # Проверка пустых значений\n",
    "# for title in list(data_necessary.columns.values):\n",
    "#     data_necessary.loc[data_necessary[title] == '     .  ', title] = 0   \n",
    "#     print(f'Поле {title}. Нулей: {data_necessary[title].isnull().sum()}.')\n",
    "    \n",
    "# Сохранение подготовленных данных в файл\n",
    "data_necessary.to_excel('../output_data/ready_data.xlsx', sheet_name = 'data')\n",
    "\n",
    "# Отображение данных по датафрейму\n",
    "len(data_necessary)\n",
    "# data_necessary"
   ]
  },
  {
   "cell_type": "code",
   "execution_count": null,
   "metadata": {},
   "outputs": [],
   "source": [
    "# Поскольку все поля, кроме признаки 'Размер_зарплаты_пенсии' являются категориальными, то нормализация значений не требуется"
   ]
  },
  {
   "cell_type": "code",
   "execution_count": null,
   "metadata": {},
   "outputs": [],
   "source": []
  },
  {
   "cell_type": "code",
   "execution_count": null,
   "metadata": {},
   "outputs": [],
   "source": []
  },
  {
   "cell_type": "code",
   "execution_count": null,
   "metadata": {},
   "outputs": [],
   "source": []
  },
  {
   "cell_type": "code",
   "execution_count": null,
   "metadata": {},
   "outputs": [],
   "source": []
  },
  {
   "cell_type": "code",
   "execution_count": null,
   "metadata": {},
   "outputs": [],
   "source": []
  },
  {
   "cell_type": "code",
   "execution_count": null,
   "metadata": {},
   "outputs": [],
   "source": []
  },
  {
   "cell_type": "code",
   "execution_count": null,
   "metadata": {},
   "outputs": [],
   "source": []
  },
  {
   "cell_type": "code",
   "execution_count": null,
   "metadata": {},
   "outputs": [],
   "source": []
  },
  {
   "cell_type": "code",
   "execution_count": null,
   "metadata": {},
   "outputs": [],
   "source": []
  },
  {
   "cell_type": "code",
   "execution_count": null,
   "metadata": {},
   "outputs": [],
   "source": []
  },
  {
   "cell_type": "code",
   "execution_count": null,
   "metadata": {},
   "outputs": [],
   "source": []
  },
  {
   "cell_type": "code",
   "execution_count": null,
   "metadata": {},
   "outputs": [],
   "source": []
  },
  {
   "cell_type": "code",
   "execution_count": null,
   "metadata": {},
   "outputs": [],
   "source": []
  },
  {
   "cell_type": "code",
   "execution_count": null,
   "metadata": {},
   "outputs": [],
   "source": []
  },
  {
   "cell_type": "code",
   "execution_count": null,
   "metadata": {},
   "outputs": [],
   "source": []
  }
 ],
 "metadata": {
  "kernelspec": {
   "display_name": "Python 3",
   "language": "python",
   "name": "python3"
  },
  "language_info": {
   "codemirror_mode": {
    "name": "ipython",
    "version": 3
   },
   "file_extension": ".py",
   "mimetype": "text/x-python",
   "name": "python",
   "nbconvert_exporter": "python",
   "pygments_lexer": "ipython3",
   "version": "3.7.6"
  }
 },
 "nbformat": 4,
 "nbformat_minor": 4
}
